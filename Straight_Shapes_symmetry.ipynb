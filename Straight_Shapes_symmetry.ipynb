{
 "cells": [
  {
   "cell_type": "code",
   "execution_count": 40,
   "id": "c6f9f9b2-5e1d-499b-b657-069a32a3d22a",
   "metadata": {},
   "outputs": [],
   "source": [
    "import matplotlib.pyplot as plt"
   ]
  },
  {
   "cell_type": "code",
   "execution_count": 157,
   "id": "20d2ef91-3aaa-4240-a54e-22be37ac24dc",
   "metadata": {},
   "outputs": [],
   "source": [
    "# Rectangle\n",
    "shape = [(0,0),(4,0),(4,2),(0,2)]"
   ]
  },
  {
   "cell_type": "code",
   "execution_count": 86,
   "id": "7a6aa564-b18a-400d-bcae-0f9fca8c3de4",
   "metadata": {},
   "outputs": [],
   "source": [
    "# Square\n",
    "shape = [(0,0), (2,0), (2,2), (0,2)]"
   ]
  },
  {
   "cell_type": "code",
   "execution_count": 113,
   "id": "a7696a43-74d8-4a88-ae03-cb7a5d73e901",
   "metadata": {},
   "outputs": [],
   "source": [
    "# Circle\n",
    "shape = [(1,0), (0,1),(-1,0),(0,-1)]"
   ]
  },
  {
   "cell_type": "code",
   "execution_count": 102,
   "id": "ef09081d-09cc-4ea4-813b-1e077413af66",
   "metadata": {},
   "outputs": [],
   "source": [
    "# Triangle\n",
    "shape = [(1,1),(4,1),(2.5,4)]"
   ]
  },
  {
   "cell_type": "code",
   "execution_count": 108,
   "id": "4a83f823-7026-4bd2-bd0d-106291776eea",
   "metadata": {},
   "outputs": [],
   "source": [
    "# Isosceles Triangle\n",
    "shape = [(3,5),(1,1),(5,1)]"
   ]
  },
  {
   "cell_type": "code",
   "execution_count": 158,
   "id": "95f691f5-428c-41f9-bdfa-a78859bfc83f",
   "metadata": {},
   "outputs": [
    {
     "data": {
      "image/png": "[encoded data removed]",
      "text/plain": [
       "<Figure size 600x600 with 1 Axes>"
      ]
     },
     "metadata": {},
     "output_type": "display_data"
    }
   ],
   "source": [
    "import matplotlib.pyplot as plt\n",
    "\n",
    "# Unzip the coordinates into x and y lists\n",
    "x, y = zip(*shape)\n",
    "\n",
    "# Close the shape by appending the first point at the end\n",
    "x += (x[0],)\n",
    "y += (y[0],)\n",
    "\n",
    "# Create the plot\n",
    "plt.figure(figsize=(6, 6))\n",
    "plt.plot(x, y, marker='o')  # Plot the lines and points\n",
    "plt.fill(x, y, alpha=0.3)    # Fill the shape with color\n",
    "\n",
    "# Set the aspect of the plot to be equal\n",
    "plt.axis('equal')\n",
    "\n",
    "# Add labels and title\n",
    "plt.title('Plot of the Defined Shape')\n",
    "plt.xlabel('X-axis')\n",
    "plt.ylabel('Y-axis')\n",
    "\n",
    "# Show grid\n",
    "plt.grid()\n",
    "\n",
    "# Show the plot\n",
    "plt.show()"
   ]
  },
  {
   "cell_type": "code",
   "execution_count": 159,
   "id": "af31dbcc-9ef1-41bd-95e1-7aab04fb7b84",
   "metadata": {},
   "outputs": [
    {
     "name": "stdout",
     "output_type": "stream",
     "text": [
      "The shape has vertical symmetry.\n"
     ]
    }
   ],
   "source": [
    "# Convert to set for easier lookup\n",
    "original_points = set(shape)\n",
    "\n",
    "# Calculate the midpoint for vertical symmetry\n",
    "x_coords = [x for x, y in shape]\n",
    "midpoint = sum(x_coords) / len(x_coords)\n",
    "\n",
    "# Check for vertical symmetry\n",
    "is_symmetric = True\n",
    "for x, y in shape:\n",
    "    # Calculate the reflected point across the vertical line (midpoint)\n",
    "    reflected_point = (2 * midpoint - x, y)\n",
    "    if reflected_point not in original_points:\n",
    "        is_symmetric = False\n",
    "        break\n",
    "\n",
    "# Output the result\n",
    "if is_symmetric:\n",
    "    print(\"The shape has vertical symmetry.\")\n",
    "else:\n",
    "    print(\"The shape does not have vertical symmetry.\")"
   ]
  },
  {
   "cell_type": "code",
   "execution_count": 160,
   "id": "c5c5385a-fd79-40c8-9683-f33a0d40db0f",
   "metadata": {},
   "outputs": [
    {
     "name": "stdout",
     "output_type": "stream",
     "text": [
      "The shape has horizontal symmetry.\n"
     ]
    }
   ],
   "source": [
    "# Calculate the midpoint for horizontal symmetry\n",
    "y_coords = [y for x, y in shape]\n",
    "midpoint = sum(y_coords) / len(y_coords)\n",
    "\n",
    "# Check for horizontal symmetry\n",
    "is_symmetric = True\n",
    "for x, y in shape:\n",
    "    # Calculate the reflected point across the horizontal line (midpoint)\n",
    "    reflected_point = (x, 2 * midpoint - y)\n",
    "    if reflected_point not in original_points:\n",
    "        is_symmetric = False\n",
    "        break\n",
    "\n",
    "# Output the result\n",
    "if is_symmetric:\n",
    "    print(\"The shape has horizontal symmetry.\")\n",
    "else:\n",
    "    print(\"The shape does not have horizontal symmetry.\")"
   ]
  },
  {
   "cell_type": "code",
   "execution_count": 161,
   "id": "5fa624c7-887b-437f-a52d-3f0a3202528e",
   "metadata": {},
   "outputs": [
    {
     "name": "stdout",
     "output_type": "stream",
     "text": [
      "The shape does not have diagonal symmetry with respect to the line y = x.\n"
     ]
    }
   ],
   "source": [
    "# Check for diagonal symmetry with respect to the line y = x\n",
    "is_symmetric = True\n",
    "for x, y in shape:\n",
    "    # Calculate the reflected point across the line y = x\n",
    "    reflected_point = (y, x)  # Swap x and y for reflection across y = x\n",
    "    if reflected_point not in original_points:\n",
    "        is_symmetric = False\n",
    "        break\n",
    "\n",
    "# Output the result\n",
    "if is_symmetric:\n",
    "    print(\"The shape has diagonal symmetry with respect to the line y = x.\")\n",
    "else:\n",
    "    print(\"The shape does not have diagonal symmetry with respect to the line y = x.\")"
   ]
  },
  {
   "cell_type": "code",
   "execution_count": null,
   "id": "459f3c30-c728-4a8a-a73e-1b35fe609254",
   "metadata": {},
   "outputs": [],
   "source": []
  },
  {
   "cell_type": "code",
   "execution_count": null,
   "id": "27d41d64-8235-4eec-a70a-e3478b9f71eb",
   "metadata": {},
   "outputs": [],
   "source": []
  }
 ],
 "metadata": {
  "kernelspec": {
   "display_name": "Python 3 (ipykernel)",
   "language": "python",
   "name": "python3"
  },
  "language_info": {
   "codemirror_mode": {
    "name": "ipython",
    "version": 3
   },
   "file_extension": ".py",
   "mimetype": "text/x-python",
   "name": "python",
   "nbconvert_exporter": "python",
   "pygments_lexer": "ipython3",
   "version": "3.11.5"
  }
 },
 "nbformat": 4,
 "nbformat_minor": 5
}
